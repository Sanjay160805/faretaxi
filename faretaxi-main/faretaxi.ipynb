{
 "cells": [
  {
   "cell_type": "code",
   "execution_count": 1,
   "id": "550dc789-42fc-4c69-8490-797b98242f8a",
   "metadata": {},
   "outputs": [
    {
     "name": "stdout",
     "output_type": "stream",
     "text": [
      "Requirement already satisfied: pandas in c:\\users\\nancy\\anaconda3\\lib\\site-packages (2.2.2)\n",
      "Requirement already satisfied: numpy in c:\\users\\nancy\\anaconda3\\lib\\site-packages (1.26.4)\n",
      "Requirement already satisfied: matplotlib in c:\\users\\nancy\\anaconda3\\lib\\site-packages (3.9.2)\n",
      "Requirement already satisfied: seaborn in c:\\users\\nancy\\anaconda3\\lib\\site-packages (0.13.2)\n",
      "Requirement already satisfied: scikit-learn in c:\\users\\nancy\\anaconda3\\lib\\site-packages (1.5.1)\n",
      "Requirement already satisfied: streamlit in c:\\users\\nancy\\anaconda3\\lib\\site-packages (1.37.1)\n",
      "Requirement already satisfied: python-dateutil>=2.8.2 in c:\\users\\nancy\\anaconda3\\lib\\site-packages (from pandas) (2.9.0.post0)\n",
      "Requirement already satisfied: pytz>=2020.1 in c:\\users\\nancy\\anaconda3\\lib\\site-packages (from pandas) (2024.1)\n",
      "Requirement already satisfied: tzdata>=2022.7 in c:\\users\\nancy\\anaconda3\\lib\\site-packages (from pandas) (2023.3)\n",
      "Requirement already satisfied: contourpy>=1.0.1 in c:\\users\\nancy\\anaconda3\\lib\\site-packages (from matplotlib) (1.2.0)\n",
      "Requirement already satisfied: cycler>=0.10 in c:\\users\\nancy\\anaconda3\\lib\\site-packages (from matplotlib) (0.11.0)\n",
      "Requirement already satisfied: fonttools>=4.22.0 in c:\\users\\nancy\\anaconda3\\lib\\site-packages (from matplotlib) (4.51.0)\n",
      "Requirement already satisfied: kiwisolver>=1.3.1 in c:\\users\\nancy\\anaconda3\\lib\\site-packages (from matplotlib) (1.4.4)\n",
      "Requirement already satisfied: packaging>=20.0 in c:\\users\\nancy\\anaconda3\\lib\\site-packages (from matplotlib) (24.1)\n",
      "Requirement already satisfied: pillow>=8 in c:\\users\\nancy\\anaconda3\\lib\\site-packages (from matplotlib) (10.4.0)\n",
      "Requirement already satisfied: pyparsing>=2.3.1 in c:\\users\\nancy\\anaconda3\\lib\\site-packages (from matplotlib) (3.1.2)\n",
      "Requirement already satisfied: scipy>=1.6.0 in c:\\users\\nancy\\anaconda3\\lib\\site-packages (from scikit-learn) (1.13.1)\n",
      "Requirement already satisfied: joblib>=1.2.0 in c:\\users\\nancy\\anaconda3\\lib\\site-packages (from scikit-learn) (1.4.2)\n",
      "Requirement already satisfied: threadpoolctl>=3.1.0 in c:\\users\\nancy\\anaconda3\\lib\\site-packages (from scikit-learn) (3.5.0)\n",
      "Requirement already satisfied: altair<6,>=4.0 in c:\\users\\nancy\\anaconda3\\lib\\site-packages (from streamlit) (5.0.1)\n",
      "Requirement already satisfied: blinker<2,>=1.0.0 in c:\\users\\nancy\\anaconda3\\lib\\site-packages (from streamlit) (1.6.2)\n",
      "Requirement already satisfied: cachetools<6,>=4.0 in c:\\users\\nancy\\anaconda3\\lib\\site-packages (from streamlit) (5.3.3)\n",
      "Requirement already satisfied: click<9,>=7.0 in c:\\users\\nancy\\anaconda3\\lib\\site-packages (from streamlit) (8.1.7)\n",
      "Requirement already satisfied: protobuf<6,>=3.20 in c:\\users\\nancy\\anaconda3\\lib\\site-packages (from streamlit) (4.25.3)\n",
      "Requirement already satisfied: pyarrow>=7.0 in c:\\users\\nancy\\anaconda3\\lib\\site-packages (from streamlit) (16.1.0)\n",
      "Requirement already satisfied: requests<3,>=2.27 in c:\\users\\nancy\\anaconda3\\lib\\site-packages (from streamlit) (2.32.3)\n",
      "Requirement already satisfied: rich<14,>=10.14.0 in c:\\users\\nancy\\anaconda3\\lib\\site-packages (from streamlit) (13.7.1)\n",
      "Requirement already satisfied: tenacity<9,>=8.1.0 in c:\\users\\nancy\\anaconda3\\lib\\site-packages (from streamlit) (8.2.3)\n",
      "Requirement already satisfied: toml<2,>=0.10.1 in c:\\users\\nancy\\anaconda3\\lib\\site-packages (from streamlit) (0.10.2)\n",
      "Requirement already satisfied: typing-extensions<5,>=4.3.0 in c:\\users\\nancy\\anaconda3\\lib\\site-packages (from streamlit) (4.11.0)\n",
      "Requirement already satisfied: gitpython!=3.1.19,<4,>=3.0.7 in c:\\users\\nancy\\anaconda3\\lib\\site-packages (from streamlit) (3.1.43)\n",
      "Requirement already satisfied: pydeck<1,>=0.8.0b4 in c:\\users\\nancy\\anaconda3\\lib\\site-packages (from streamlit) (0.8.0)\n",
      "Requirement already satisfied: tornado<7,>=6.0.3 in c:\\users\\nancy\\anaconda3\\lib\\site-packages (from streamlit) (6.4.1)\n",
      "Requirement already satisfied: watchdog<5,>=2.1.5 in c:\\users\\nancy\\anaconda3\\lib\\site-packages (from streamlit) (4.0.1)\n",
      "Requirement already satisfied: jinja2 in c:\\users\\nancy\\anaconda3\\lib\\site-packages (from altair<6,>=4.0->streamlit) (3.1.4)\n",
      "Requirement already satisfied: jsonschema>=3.0 in c:\\users\\nancy\\anaconda3\\lib\\site-packages (from altair<6,>=4.0->streamlit) (4.23.0)\n",
      "Requirement already satisfied: toolz in c:\\users\\nancy\\anaconda3\\lib\\site-packages (from altair<6,>=4.0->streamlit) (0.12.0)\n",
      "Requirement already satisfied: colorama in c:\\users\\nancy\\anaconda3\\lib\\site-packages (from click<9,>=7.0->streamlit) (0.4.6)\n",
      "Requirement already satisfied: gitdb<5,>=4.0.1 in c:\\users\\nancy\\anaconda3\\lib\\site-packages (from gitpython!=3.1.19,<4,>=3.0.7->streamlit) (4.0.7)\n",
      "Requirement already satisfied: six>=1.5 in c:\\users\\nancy\\anaconda3\\lib\\site-packages (from python-dateutil>=2.8.2->pandas) (1.16.0)\n",
      "Requirement already satisfied: charset-normalizer<4,>=2 in c:\\users\\nancy\\anaconda3\\lib\\site-packages (from requests<3,>=2.27->streamlit) (3.3.2)\n",
      "Requirement already satisfied: idna<4,>=2.5 in c:\\users\\nancy\\anaconda3\\lib\\site-packages (from requests<3,>=2.27->streamlit) (3.7)\n",
      "Requirement already satisfied: urllib3<3,>=1.21.1 in c:\\users\\nancy\\anaconda3\\lib\\site-packages (from requests<3,>=2.27->streamlit) (2.2.3)\n",
      "Requirement already satisfied: certifi>=2017.4.17 in c:\\users\\nancy\\anaconda3\\lib\\site-packages (from requests<3,>=2.27->streamlit) (2025.1.31)\n",
      "Requirement already satisfied: markdown-it-py>=2.2.0 in c:\\users\\nancy\\anaconda3\\lib\\site-packages (from rich<14,>=10.14.0->streamlit) (2.2.0)\n",
      "Requirement already satisfied: pygments<3.0.0,>=2.13.0 in c:\\users\\nancy\\anaconda3\\lib\\site-packages (from rich<14,>=10.14.0->streamlit) (2.15.1)\n",
      "Requirement already satisfied: smmap<5,>=3.0.1 in c:\\users\\nancy\\anaconda3\\lib\\site-packages (from gitdb<5,>=4.0.1->gitpython!=3.1.19,<4,>=3.0.7->streamlit) (4.0.0)\n",
      "Requirement already satisfied: MarkupSafe>=2.0 in c:\\users\\nancy\\anaconda3\\lib\\site-packages (from jinja2->altair<6,>=4.0->streamlit) (2.1.3)\n",
      "Requirement already satisfied: attrs>=22.2.0 in c:\\users\\nancy\\anaconda3\\lib\\site-packages (from jsonschema>=3.0->altair<6,>=4.0->streamlit) (23.1.0)\n",
      "Requirement already satisfied: jsonschema-specifications>=2023.03.6 in c:\\users\\nancy\\anaconda3\\lib\\site-packages (from jsonschema>=3.0->altair<6,>=4.0->streamlit) (2023.7.1)\n",
      "Requirement already satisfied: referencing>=0.28.4 in c:\\users\\nancy\\anaconda3\\lib\\site-packages (from jsonschema>=3.0->altair<6,>=4.0->streamlit) (0.30.2)\n",
      "Requirement already satisfied: rpds-py>=0.7.1 in c:\\users\\nancy\\anaconda3\\lib\\site-packages (from jsonschema>=3.0->altair<6,>=4.0->streamlit) (0.10.6)\n",
      "Requirement already satisfied: mdurl~=0.1 in c:\\users\\nancy\\anaconda3\\lib\\site-packages (from markdown-it-py>=2.2.0->rich<14,>=10.14.0->streamlit) (0.1.0)\n",
      "Note: you may need to restart the kernel to use updated packages.\n"
     ]
    }
   ],
   "source": [
    "pip install pandas numpy matplotlib seaborn scikit-learn streamlit\n"
   ]
  },
  {
   "cell_type": "code",
   "execution_count": 5,
   "id": "629d1828-c0c2-478c-bcdc-31589e01bb01",
   "metadata": {},
   "outputs": [
    {
     "name": "stdout",
     "output_type": "stream",
     "text": [
      "   VendorID tpep_pickup_datetime tpep_dropoff_datetime  passenger_count  \\\n",
      "0         1  2016-03-01 00:00:00   2016-03-01 00:07:55                1   \n",
      "1         1  2016-03-01 00:00:00   2016-03-01 00:11:06                1   \n",
      "2         2  2016-03-01 00:00:00   2016-03-01 00:31:06                2   \n",
      "3         2  2016-03-01 00:00:00   2016-03-01 00:00:00                3   \n",
      "4         2  2016-03-01 00:00:00   2016-03-01 00:00:00                5   \n",
      "\n",
      "   pickup_longitude  pickup_latitude  RatecodeID store_and_fwd_flag  \\\n",
      "0        -73.976746        40.765152           1                  N   \n",
      "1        -73.983482        40.767925           1                  N   \n",
      "2        -73.782021        40.644810           1                  N   \n",
      "3        -73.863419        40.769814           1                  N   \n",
      "4        -73.971741        40.792183           3                  N   \n",
      "\n",
      "   dropoff_longitude  dropoff_latitude  payment_type  fare_amount  extra  \\\n",
      "0         -74.004265         40.746128             1          9.0    0.5   \n",
      "1         -74.005943         40.733166             1         11.0    0.5   \n",
      "2         -73.974541         40.675770             1         54.5    0.5   \n",
      "3         -73.969650         40.757767             1         31.5    0.0   \n",
      "4         -74.177170         40.695053             1         98.0    0.0   \n",
      "\n",
      "   mta_tax  tip_amount  tolls_amount  improvement_surcharge  total_amount  \n",
      "0      0.5        2.05          0.00                    0.3         12.35  \n",
      "1      0.5        3.05          0.00                    0.3         15.35  \n",
      "2      0.5        8.00          0.00                    0.3         63.80  \n",
      "3      0.5        3.78          5.54                    0.3         41.62  \n",
      "4      0.0        0.00         15.50                    0.3        113.80  \n"
     ]
    }
   ],
   "source": [
    "import pandas as pd\n",
    "\n",
    "df = pd.read_csv(r\"C:\\Users\\nancy\\Downloads\\taxi_fare (1).csv\")  # replace with actual file path\n",
    "print(df.head())\n"
   ]
  },
  {
   "cell_type": "code",
   "execution_count": 7,
   "id": "f110f72b-281e-4129-8635-0c3ce6b3284e",
   "metadata": {},
   "outputs": [
    {
     "name": "stdout",
     "output_type": "stream",
     "text": [
      "<class 'pandas.core.frame.DataFrame'>\n",
      "RangeIndex: 212345 entries, 0 to 212344\n",
      "Data columns (total 18 columns):\n",
      " #   Column                 Non-Null Count   Dtype  \n",
      "---  ------                 --------------   -----  \n",
      " 0   VendorID               212345 non-null  int64  \n",
      " 1   tpep_pickup_datetime   212345 non-null  object \n",
      " 2   tpep_dropoff_datetime  212345 non-null  object \n",
      " 3   passenger_count        212345 non-null  int64  \n",
      " 4   pickup_longitude       212345 non-null  float64\n",
      " 5   pickup_latitude        212345 non-null  float64\n",
      " 6   RatecodeID             212345 non-null  int64  \n",
      " 7   store_and_fwd_flag     212345 non-null  object \n",
      " 8   dropoff_longitude      212345 non-null  float64\n",
      " 9   dropoff_latitude       212345 non-null  float64\n",
      " 10  payment_type           212345 non-null  int64  \n",
      " 11  fare_amount            212345 non-null  float64\n",
      " 12  extra                  212345 non-null  float64\n",
      " 13  mta_tax                212345 non-null  float64\n",
      " 14  tip_amount             212345 non-null  float64\n",
      " 15  tolls_amount           212345 non-null  float64\n",
      " 16  improvement_surcharge  212345 non-null  float64\n",
      " 17  total_amount           212345 non-null  float64\n",
      "dtypes: float64(11), int64(4), object(3)\n",
      "memory usage: 29.2+ MB\n"
     ]
    },
    {
     "data": {
      "text/plain": [
       "0"
      ]
     },
     "execution_count": 7,
     "metadata": {},
     "output_type": "execute_result"
    }
   ],
   "source": [
    "df.info()\n",
    "df.describe()\n",
    "df.isnull().sum()\n",
    "df.duplicated().sum()\n"
   ]
  },
  {
   "cell_type": "code",
   "execution_count": 9,
   "id": "634a7574-ebb5-4d3d-84aa-005b6413c2ec",
   "metadata": {},
   "outputs": [],
   "source": [
    "import numpy as np\n",
    "from math import radians, sin, cos, sqrt, atan2\n",
    "\n",
    "def haversine(lat1, lon1, lat2, lon2):\n",
    "    R = 6371  # Earth radius in km\n",
    "    dlat = radians(lat2 - lat1)\n",
    "    dlon = radians(lon2 - lon1)\n",
    "    a = sin(dlat/2)**2 + cos(radians(lat1)) * cos(radians(lat2)) * sin(dlon/2)**2\n",
    "    c = 2 * atan2(sqrt(a), sqrt(1 - a))\n",
    "    return R * c\n",
    "\n",
    "df['trip_distance'] = df.apply(lambda row: haversine(row['pickup_latitude'], row['pickup_longitude'],\n",
    "                                                     row['dropoff_latitude'], row['dropoff_longitude']), axis=1)\n",
    "df['pickup_datetime'] = pd.to_datetime(df['tpep_pickup_datetime'])\n",
    "df['pickup_day'] = df['pickup_datetime'].dt.day_name()\n",
    "df['pickup_hour'] = df['pickup_datetime'].dt.hour\n",
    "df['am_pm'] = df['pickup_hour'].apply(lambda x: 'AM' if x < 12 else 'PM')\n",
    "df['is_night'] = df['pickup_hour'].apply(lambda x: 1 if x < 6 or x > 22 else 0)\n"
   ]
  },
  {
   "cell_type": "code",
   "execution_count": 11,
   "id": "ccee3000-88ed-48c0-a81c-91469a09e95c",
   "metadata": {},
   "outputs": [
    {
     "data": {
      "image/png": "[encoded data removed]",
      "text/plain": [
       "<Figure size 640x480 with 1 Axes>"
      ]
     },
     "metadata": {},
     "output_type": "display_data"
    }
   ],
   "source": [
    "import seaborn as sns\n",
    "import matplotlib.pyplot as plt\n",
    "\n",
    "sns.scatterplot(data=df, x='trip_distance', y='total_amount')\n",
    "plt.title('Fare vs Distance')\n",
    "plt.show()\n"
   ]
  },
  {
   "cell_type": "code",
   "execution_count": 15,
   "id": "ee9b488b-9369-4cf9-b363-9a28fbee8b3a",
   "metadata": {},
   "outputs": [],
   "source": [
    "from sklearn.preprocessing import LabelEncoder\n",
    "\n",
    "df = df[df['trip_distance'] < df['trip_distance'].quantile(0.99)]\n",
    "df = df[df['total_amount'].notnull() & (df['total_amount'] > 0)]\n",
    "df['log_fare'] = np.log1p(df['total_amount'])\n",
    "\n",
    "\n",
    "le = LabelEncoder()\n",
    "df['payment_type_encoded'] = le.fit_transform(df['payment_type'])\n"
   ]
  },
  {
   "cell_type": "code",
   "execution_count": 21,
   "id": "17356f6a-f098-45aa-959d-87eb29e0ea7f",
   "metadata": {},
   "outputs": [
    {
     "name": "stdout",
     "output_type": "stream",
     "text": [
      "Linear R2: 0.71 | RMSE: 6.06\n",
      "Ridge R2: 0.71 | RMSE: 6.06\n",
      "Lasso R2: 0.70 | RMSE: 6.09\n",
      "RF R2: 0.70 | RMSE: 6.18\n",
      "GB R2: 0.75 | RMSE: 5.60\n"
     ]
    }
   ],
   "source": [
    "from sklearn.model_selection import train_test_split\n",
    "from sklearn.linear_model import LinearRegression, Ridge, Lasso\n",
    "from sklearn.ensemble import RandomForestRegressor, GradientBoostingRegressor\n",
    "from sklearn.metrics import root_mean_squared_error, r2_score\n",
    "\n",
    "X = df[['trip_distance', 'passenger_count', 'pickup_hour', 'is_night']]\n",
    "y = df['total_amount']\n",
    "\n",
    "X_train, X_test, y_train, y_test = train_test_split(X, y, test_size=0.2, random_state=42)\n",
    "\n",
    "models = {\n",
    "    'Linear': LinearRegression(),\n",
    "    'Ridge': Ridge(),\n",
    "    'Lasso': Lasso(),\n",
    "    'RF': RandomForestRegressor(),\n",
    "    'GB': GradientBoostingRegressor()\n",
    "}\n",
    "\n",
    "for name, model in models.items():\n",
    "    model.fit(X_train, y_train)\n",
    "    preds = model.predict(X_test)\n",
    "    print(f\"{name} R2: {r2_score(y_test, preds):.2f} | RMSE: {root_mean_squared_error(y_test, preds):.2f}\")\n"
   ]
  },
  {
   "cell_type": "code",
   "execution_count": 23,
   "id": "dc0a8ff8-9617-4015-8818-3d68ab5b15e7",
   "metadata": {},
   "outputs": [
    {
     "name": "stdout",
     "output_type": "stream",
     "text": [
      "Fitting 3 folds for each of 20 candidates, totalling 60 fits\n",
      "Best Parameters Found:\n",
      " {'subsample': 1.0, 'n_estimators': 150, 'max_depth': 4, 'learning_rate': 0.05}\n",
      "\n",
      "Best Tuned Gradient Boosting Model:\n",
      "R²: 0.7489 | RMSE: 5.6134\n"
     ]
    }
   ],
   "source": [
    "# 1️⃣ Import necessary libraries\n",
    "from sklearn.ensemble import GradientBoostingRegressor\n",
    "from sklearn.model_selection import RandomizedSearchCV\n",
    "from sklearn.metrics import root_mean_squared_error, r2_score\n",
    "import numpy as np\n",
    "\n",
    "\n",
    "param_grid = {\n",
    "    'n_estimators': [100, 150, 200, 250],\n",
    "    'max_depth': [3, 4, 5, 6],\n",
    "    'learning_rate': [0.01, 0.05, 0.1, 0.2],\n",
    "    'subsample': [0.6, 0.8, 1.0]\n",
    "}\n",
    "\n",
    "\n",
    "gbr = GradientBoostingRegressor(random_state=42)\n",
    "\n",
    "\n",
    "random_search = RandomizedSearchCV(\n",
    "    estimator=gbr,\n",
    "    param_distributions=param_grid,\n",
    "    n_iter=20,           \n",
    "    cv=3,                \n",
    "    n_jobs=-1,           \n",
    "    verbose=2,\n",
    "    random_state=42\n",
    ")\n",
    "\n",
    "\n",
    "X_sample = X_train.sample(frac=0.5, random_state=42)\n",
    "y_sample = y_train.loc[X_sample.index]\n",
    "\n",
    "\n",
    "random_search.fit(X_sample, y_sample)\n",
    "\n",
    "\n",
    "print(\"Best Parameters Found:\\n\", random_search.best_params_)\n",
    "\n",
    "\n",
    "best_model = random_search.best_estimator_\n",
    "y_pred = best_model.predict(X_test)\n",
    "\n",
    "rmse = root_mean_squared_error(y_test, y_pred)\n",
    "r2 = r2_score(y_test, y_pred)\n",
    "\n",
    "print(f\"\\nBest Tuned Gradient Boosting Model:\\nR²: {r2:.4f} | RMSE: {rmse:.4f}\")\n"
   ]
  },
  {
   "cell_type": "code",
   "execution_count": 25,
   "id": "955a1f24-cf02-45b6-845a-6ad6c05a4c71",
   "metadata": {},
   "outputs": [
    {
     "name": "stdout",
     "output_type": "stream",
     "text": [
      "Best Parameters: {'subsample': 1.0, 'n_estimators': 150, 'max_depth': 4, 'learning_rate': 0.05}\n",
      "R2: 0.7489 | RMSE: 5.6134\n"
     ]
    }
   ],
   "source": [
    "best_model = random_search.best_estimator_\n",
    "y_pred = best_model.predict(X_test)\n",
    "\n",
    "rmse = root_mean_squared_error(y_test, y_pred)\n",
    "r2 = r2_score(y_test, y_pred)\n",
    "\n",
    "print(\"Best Parameters:\", random_search.best_params_)\n",
    "print(f\"R2: {r2:.4f} | RMSE: {rmse:.4f}\")"
   ]
  },
  {
   "cell_type": "code",
   "execution_count": 29,
   "id": "9c2637c0-2b25-4a9c-af1e-53995ec98070",
   "metadata": {},
   "outputs": [],
   "source": [
    "import pickle\n",
    "with open(\"fare_prediction_model.pkl\", \"wb\") as f:\n",
    "    pickle.dump(best_model, f)\n"
   ]
  },
  {
   "cell_type": "code",
   "execution_count": 31,
   "id": "c9149a3f-3c09-4d89-978a-e5ffb3d77e1f",
   "metadata": {},
   "outputs": [
    {
     "name": "stdout",
     "output_type": "stream",
     "text": [
      "C:\\Users\\nancy\n"
     ]
    }
   ],
   "source": [
    "import os\n",
    "print(os.getcwd())\n"
   ]
  },
  {
   "cell_type": "code",
   "execution_count": 37,
   "id": "e5049918-d3aa-4aff-b52b-708a1fa2ca90",
   "metadata": {},
   "outputs": [
    {
     "name": "stdout",
     "output_type": "stream",
     "text": [
      "✅ Model loaded successfully.\n",
      "Loaded Model Performance — R²: 0.7489 | RMSE: 5.6134\n",
      "Predicted Fare: ₹38.42\n"
     ]
    }
   ],
   "source": [
    "\n",
    "\n",
    "\n",
    "import pickle\n",
    "import numpy as np\n",
    "from sklearn.metrics import root_mean_squared_error, r2_score\n",
    "\n",
    "\n",
    "model_path = \"fare_prediction_model.pkl\"\n",
    "\n",
    "with open(model_path, \"rb\") as f:\n",
    "    loaded_model = pickle.load(f)\n",
    "\n",
    "print(\"✅ Model loaded successfully.\")\n",
    "\n",
    "\n",
    "try:\n",
    "    y_pred_loaded = loaded_model.predict(X_test)\n",
    "    rmse_loaded = root_mean_squared_error(y_test, y_pred_loaded)\n",
    "    r2_loaded = r2_score(y_test, y_pred_loaded)\n",
    "\n",
    "    print(f\"Loaded Model Performance — R²: {r2_loaded:.4f} | RMSE: {rmse_loaded:.4f}\")\n",
    "except:\n",
    "    print(\"No X_test and y_test found. Skipping test set evaluation.\")\n",
    "\n",
    "import pandas as pd\n",
    "\n",
    "test_input_df = pd.DataFrame([[12.3, 17, 5, 0]], columns=loaded_model.feature_names_in_)\n",
    "predicted_fare = loaded_model.predict(test_input_df)\n",
    "\n",
    "print(f\"Predicted Fare: ₹{predicted_fare[0]:.2f}\")\n",
    "\n",
    "\n"
   ]
  },
  {
   "cell_type": "code",
   "execution_count": null,
   "id": "c0ac5177-bd55-48f8-9105-a3815f2c3de9",
   "metadata": {},
   "outputs": [],
   "source": []
  },
  {
   "cell_type": "code",
   "execution_count": null,
   "id": "fcb14de7-26fc-43f9-bb0d-4e1881eb5307",
   "metadata": {},
   "outputs": [],
   "source": []
  }
 ],
 "metadata": {
  "kernelspec": {
   "display_name": "Python [conda env:base] *",
   "language": "python",
   "name": "conda-base-py"
  },
  "language_info": {
   "codemirror_mode": {
    "name": "ipython",
    "version": 3
   },
   "file_extension": ".py",
   "mimetype": "text/x-python",
   "name": "python",
   "nbconvert_exporter": "python",
   "pygments_lexer": "ipython3",
   "version": "3.12.7"
  }
 },
 "nbformat": 4,
 "nbformat_minor": 5
}
